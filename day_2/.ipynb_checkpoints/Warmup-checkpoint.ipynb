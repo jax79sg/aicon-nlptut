{
 "cells": [
  {
   "cell_type": "code",
   "execution_count": 21,
   "metadata": {},
   "outputs": [],
   "source": [
    "def describe(x):\n",
    "    print(\"\")\n",
    "    print(\"Type: {}\".format(x.type()))\n",
    "    print(\"Shape/size: {}\".format(x.shape))\n",
    "    print(\"Values: \\n{}\".format(x))"
   ]
  },
  {
   "cell_type": "code",
   "execution_count": 4,
   "metadata": {},
   "outputs": [
    {
     "name": "stdout",
     "output_type": "stream",
     "text": [
      "t1: torch.Size([29, 30, 32])\n",
      "t2: torch.Size([32, 100])\n"
     ]
    }
   ],
   "source": [
    "import torch \n",
    "t1=torch.randn((29, 30, 32))\n",
    "t2=torch.randn((32, 100))\n",
    "print(\"t1:\",t1.shape)\n",
    "print(\"t2:\",t2.shape)"
   ]
  },
  {
   "cell_type": "code",
   "execution_count": 6,
   "metadata": {},
   "outputs": [
    {
     "name": "stdout",
     "output_type": "stream",
     "text": [
      "torch.Size([29, 30, 100])\n"
     ]
    }
   ],
   "source": [
    "t3=torch.matmul(t1,t2)\n",
    "print(t3.shape)"
   ]
  },
  {
   "cell_type": "code",
   "execution_count": 23,
   "metadata": {},
   "outputs": [
    {
     "name": "stdout",
     "output_type": "stream",
     "text": [
      "\n",
      "Type: torch.FloatTensor\n",
      "Shape/size: torch.Size([29, 100])\n",
      "Values: \n",
      "tensor([[-11.9115,   7.8902, -39.9104,  ..., -15.2737,  33.9351,  -5.7416],\n",
      "        [-26.5255,  10.5151,  18.8701,  ...,  24.6391, -13.9569, -44.2294],\n",
      "        [ 14.9546,  48.0712, -19.2508,  ...,  -7.2664,  35.1375,   4.1417],\n",
      "        ...,\n",
      "        [ 11.9912,  -4.8075,  22.7264,  ...,  -3.3242, -83.5710, -37.6699],\n",
      "        [ 11.7992, -27.4209, -18.1466,  ...,  -4.5813, -13.7071,   3.7999],\n",
      "        [-21.7256, -10.8359,  -6.1702,  ...,  -8.7136, -33.3824,  14.0346]])\n"
     ]
    }
   ],
   "source": [
    "t4=torch.sum(t3,dim=1)\n",
    "describe(t4)"
   ]
  },
  {
   "cell_type": "code",
   "execution_count": 22,
   "metadata": {},
   "outputs": [
    {
     "name": "stdout",
     "output_type": "stream",
     "text": [
      "(3, 10)\n",
      "[[0 0 3 1 3 0 0 0 2 4]\n",
      " [1 4 3 3 4 2 3 3 1 1]\n",
      " [1 1 1 2 4 2 2 4 1 2]]\n",
      "\n",
      "Type: torch.LongTensor\n",
      "Shape/size: torch.Size([3, 10])\n",
      "Values: \n",
      "tensor([[0, 0, 3, 1, 3, 0, 0, 0, 2, 4],\n",
      "        [1, 4, 3, 3, 4, 2, 3, 3, 1, 1],\n",
      "        [1, 1, 1, 2, 4, 2, 2, 4, 1, 2]])\n"
     ]
    }
   ],
   "source": [
    "import numpy as np\n",
    "n5=np.random.randint(5, size=(3, 10))\n",
    "print(n5.shape)\n",
    "print(n5)\n",
    "\n",
    "t5=torch.from_numpy(n5).long()\n",
    "describe(t5)"
   ]
  },
  {
   "cell_type": "code",
   "execution_count": null,
   "metadata": {},
   "outputs": [],
   "source": []
  }
 ],
 "metadata": {
  "kernelspec": {
   "display_name": "Python 3",
   "language": "python",
   "name": "python3"
  },
  "language_info": {
   "codemirror_mode": {
    "name": "ipython",
    "version": 3
   },
   "file_extension": ".py",
   "mimetype": "text/x-python",
   "name": "python",
   "nbconvert_exporter": "python",
   "pygments_lexer": "ipython3",
   "version": "3.5.2"
  }
 },
 "nbformat": 4,
 "nbformat_minor": 2
}
